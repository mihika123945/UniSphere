{
 "cells": [
  {
   "cell_type": "code",
   "execution_count": null,
   "id": "0eb05c03",
   "metadata": {},
   "outputs": [],
   "source": [
    "import pandas as pd\n",
    "import streamlit as st\n",
    "import pydeck as pdk\n",
    "\n",
    "st.set_page_config(page_title=\"Study Abroad University Map\", layout=\"wide\")\n",
    "\n",
    "# Load data\n",
    "df = pd.read_csv(\"merged_data_with_coordinates.csv\")\n",
    "df.columns = df.columns.str.strip().str.lower().str.replace(\" \", \"_\")\n",
    "\n",
    "# Compute missing cost columns\n",
    "if \"annual_living_cost\" not in df.columns:\n",
    "    df[\"annual_living_cost\"] = df[\"avg_monthly_cost_usd\"] * 9\n",
    "\n",
    "df[\"total_estimated_cost\"] = df[\"latest.cost.tuition.out_of_state\"] + df[\"annual_living_cost\"]"
   ]
  },
  {
   "cell_type": "code",
   "execution_count": 5,
   "id": "7f958d0c",
   "metadata": {},
   "outputs": [
    {
     "name": "stderr",
     "output_type": "stream",
     "text": [
      "2025-05-09 14:43:29.445 \n",
      "  \u001b[33m\u001b[1mWarning:\u001b[0m to view this Streamlit app on a browser, run it with the following\n",
      "  command:\n",
      "\n",
      "    streamlit run c:\\Python310\\lib\\site-packages\\ipykernel_launcher.py [ARGUMENTS]\n"
     ]
    }
   ],
   "source": [
    "st.title(\"\\U0001F30F Study Abroad: U.S. University Explorer\")\n",
    "st.markdown(\"\"\"\n",
    "Explore U.S. universities by total estimated cost. Filter by budget and view schools on the map.\n",
    "\"\"\")\n",
    "\n",
    "# Budget slider\n",
    "max_budget = int(df[\"total_estimated_cost\"].dropna().max())\n",
    "budget = st.slider(\"Filter by Total Estimated Cost (USD per year):\", 10000, max_budget, 40000, step=1000)\n",
    "\n",
    "# Filter data\n",
    "filtered_df = df[df[\"total_estimated_cost\"] <= budget]"
   ]
  },
  {
   "cell_type": "code",
   "execution_count": 6,
   "id": "6a349cdf",
   "metadata": {},
   "outputs": [
    {
     "data": {
      "text/plain": [
       "DeltaGenerator(_root_container=0, _provided_cursor=None, _parent=None, _block_type=None, _form_data=None)"
      ]
     },
     "execution_count": 6,
     "metadata": {},
     "output_type": "execute_result"
    }
   ],
   "source": [
    "st.pydeck_chart(pdk.Deck(\n",
    "    map_style=\"mapbox://styles/mapbox/light-v9\",\n",
    "    initial_view_state=pdk.ViewState(\n",
    "        latitude=37.0902,\n",
    "        longitude=-95.7129,\n",
    "        zoom=3,\n",
    "        pitch=0,\n",
    "    ),\n",
    "    layers=[\n",
    "        pdk.Layer(\n",
    "            \"ScatterplotLayer\",\n",
    "            data=filtered_df,\n",
    "            get_position='[longitude, latitude]',\n",
    "            get_radius=5000,\n",
    "            get_fill_color='[200, 30, 0, 160]',\n",
    "            pickable=True,\n",
    "        ),\n",
    "    ],\n",
    "    tooltip={\"text\": \"{school.name}\\n{school.city}, {school.state}\\nTotal Cost: ${total_estimated_cost}\"}\n",
    "))\n"
   ]
  },
  {
   "cell_type": "code",
   "execution_count": 7,
   "id": "2677da73",
   "metadata": {},
   "outputs": [
    {
     "data": {
      "text/plain": [
       "DeltaGenerator(_root_container=0, _provided_cursor=None, _parent=None, _block_type=None, _form_data=None)"
      ]
     },
     "execution_count": 7,
     "metadata": {},
     "output_type": "execute_result"
    }
   ],
   "source": [
    "st.markdown(f\"Showing {len(filtered_df)} universities under ${budget:,} total estimated cost.\")"
   ]
  },
  {
   "cell_type": "code",
   "execution_count": null,
   "id": "7276f667",
   "metadata": {},
   "outputs": [],
   "source": []
  }
 ],
 "metadata": {
  "kernelspec": {
   "display_name": "Python 3",
   "language": "python",
   "name": "python3"
  },
  "language_info": {
   "codemirror_mode": {
    "name": "ipython",
    "version": 3
   },
   "file_extension": ".py",
   "mimetype": "text/x-python",
   "name": "python",
   "nbconvert_exporter": "python",
   "pygments_lexer": "ipython3",
   "version": "3.10.2"
  }
 },
 "nbformat": 4,
 "nbformat_minor": 5
}
